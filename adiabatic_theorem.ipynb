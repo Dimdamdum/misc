{
 "cells": [
  {
   "cell_type": "markdown",
   "id": "152d5eb9",
   "metadata": {},
   "source": [
    "In this notebook I test the simplest case of the adiabatic theorem I can think of. Take two \"Hamiltonians\" $A$ and $B$, here 2 $\\times$ 2 random Hermitian matrices. Pick a time $T$. Let $| a \\rangle $ be an eigenvector of $A$. Evolve it for the time interval $[0, T]$ according to the Hamiltonian\n",
    "\\begin{equation}\n",
    "    H(t) = (1 - t/T)A + t/T B \\;  \\tag{1}\n",
    "\\end{equation}\n",
    "(notice $H(t)$ depends parametrically on $T$). This means solving\n",
    "\\begin{equation}\n",
    "    \\frac{d}{dt} | \\psi (t) \\rangle = - i H(t) | \\psi (t) \\rangle \\tag{2}\n",
    "\\end{equation}\n",
    "with initial condition $| \\psi (0) \\rangle = | a \\rangle $.\n",
    "Then *if $T$ is long enough* the final state vector $| \\psi(T) \\rangle $ is approximately an eigenstate of $B$. More in general, $| \\psi(t) \\rangle $ is approximately an eigenstate of $H(t)$ for all $t \\in [0,1]$.\n",
    "\n",
    "We check this as follows:\n",
    "- Fix $T$ (parameter of the code)\n",
    "- Get the unitary $U_A$ s.t. $U_A A U_A^{\\dagger}$ is diagonal, i.e. whose columns are eigenvectors of $A$. \n",
    "- Evolve the two eigenvectors simultaneously by solving\n",
    "\\begin{equation}\n",
    "    \\frac{d}{dt} U(t) = - i H(t) \\cdot U(t) \\tag{3}\n",
    "\\end{equation}\n",
    "with initial condition $U(0) = U_A$, on the time interval $[0,T]$.\n",
    "- Do some unitarity check on numerical solution $U(t)$\n",
    "- Check whether $U(t) H(t) U(t)^{\\dagger}$ is diagonal for all/various times $t$, i.p. for $t=T$ and $H(T) = B$"
   ]
  },
  {
   "cell_type": "code",
   "execution_count": 96,
   "id": "d441417c",
   "metadata": {},
   "outputs": [],
   "source": [
    "import numpy as np\n",
    "from scipy.integrate import solve_ivp"
   ]
  },
  {
   "cell_type": "code",
   "execution_count": 97,
   "id": "6bf579f7",
   "metadata": {},
   "outputs": [],
   "source": [
    "def sample_hermitian_matrix():\n",
    "    real_part = np.random.randn(2, 2)\n",
    "    imag_part = np.random.randn(2, 2)\n",
    "    matrix = real_part + 1j * imag_part\n",
    "    hermitian_matrix = (matrix + matrix.conj().T) / 2\n",
    "    return hermitian_matrix\n",
    "\n",
    "# Sampled A and B:\n",
    "A = sample_hermitian_matrix()\n",
    "B = sample_hermitian_matrix()\n",
    "\n",
    "#B = A #switch this on for sanity checks (sets a time-independent H(t) = A)\n",
    "\n",
    "# Define the function H |---> H(t) matrix\n",
    "def H(t):\n",
    "    return (1 - t/T) * A + (t/T) * B\n",
    "\n",
    "#eigenvectors of A\n",
    "U_A = np.linalg.eigh(A)[1]\n",
    "#print(U_A)\n",
    "\n",
    "#(np.conj(U_A.T) @ A @ U_A).round(5) #CHECK OK"
   ]
  },
  {
   "cell_type": "code",
   "execution_count": 98,
   "id": "4df45b6a",
   "metadata": {},
   "outputs": [],
   "source": [
    "# Define your list of T values here\n",
    "T_list = [10**(-1 + j * .25) for j in range(18)]\n",
    "U_T_list = [] #will contain the result of evolving U_A with eq. (3) with H given by Eq. (2)\n",
    "#T_list[-1]"
   ]
  },
  {
   "cell_type": "code",
   "execution_count": 99,
   "id": "eab04962",
   "metadata": {},
   "outputs": [],
   "source": [
    "#convention: _flat for flattened matrices with separated real and imag parts, i.e. el. of R^8; no specification for matrices\n",
    "\n",
    "def complex_to_real_imag(x):\n",
    "    return np.concatenate((np.real(x), np.imag(x)))\n",
    "def real_imag_to_complex(real_imag):\n",
    "    n_half = int(len(real_imag)/2)\n",
    "    return real_imag[:n_half] + 1.j * real_imag[n_half:]\n",
    "def matrix_to_flat(matrix):\n",
    "    return complex_to_real_imag(matrix.flatten())\n",
    "def flat_to_matrix(flattened):\n",
    "    return (real_imag_to_complex(flattened)).reshape((2,2))\n",
    "    \n",
    "def matrix_differential_equation(t, U_flat, H_func): #U_flat is a flattened matrix in R^8; H_func is a function t |--> matrix H_mat_func(t)\n",
    "    U = flat_to_matrix(U_flat)\n",
    "    dUdt = -1.j * H_func(t) @ U\n",
    "    return matrix_to_flat(dUdt)\n",
    "\n",
    "# Initial condition\n",
    "U_A_flat = matrix_to_flat(U_A)\n",
    "\n",
    "for T in T_list:\n",
    "    # Time interval\n",
    "    t_span = (0, T)\n",
    "    num_values = 100\n",
    "    t_list = np.linspace(0, T, num_values + 1)\n",
    "\n",
    "    # Solve the differential equation\n",
    "    solution = solve_ivp(matrix_differential_equation, t_span, U_A_flat, args=(H,), t_eval=t_list)\n",
    "\n",
    "    #solution.y[0] is a list of values Re(U_00(t)) for t in t_list, solution.y[1] is a list of values Re(U_01(t)), etc\n",
    "\n",
    "    U_T_flat = np.array([solution.y[i][num_values] for i in range(8)])\n",
    "    U_T = real_imag_to_complex(U_T_flat).reshape((2,2))\n",
    "    U_T_list.append(U_T)"
   ]
  },
  {
   "cell_type": "code",
   "execution_count": 100,
   "id": "f56690f6",
   "metadata": {
    "scrolled": true
   },
   "outputs": [
    {
     "data": {
      "text/plain": [
       "array([[ 1.02-0.j  , -0.01-0.12j],\n",
       "       [-0.01+0.12j,  1.16-0.j  ]])"
      ]
     },
     "execution_count": 100,
     "metadata": {},
     "output_type": "execute_result"
    }
   ],
   "source": [
    "# check unitarity of U_T's...\n",
    "(U_T_list[-1] @ np.conj(U_T_list[-1].T)).round(2)"
   ]
  },
  {
   "cell_type": "markdown",
   "id": "8164791c",
   "metadata": {},
   "source": [
    "For all valued of $T$ we considered, we now check how much $U(T) B U(T)^{\\dagger}$ deviates from being diagonal, i.e. how much the evolution after time $T$ of the two eigenstates of $A$ deviates from the two eigenstates of $B$. Here $U(T)$ is the matrix you get by solving eq. (3) with the Hamiltonian of Eq. (1) for a time $T$ and with initial condition $ U(0) = U_A$. We do this by plotting\n",
    "\\begin{equation}\n",
    "    D(T) = | \\text{off diagonal element of } U(T) B U(T)^{\\dagger}| \\; .\n",
    "\\end{equation}\n"
   ]
  },
  {
   "cell_type": "code",
   "execution_count": 101,
   "id": "c8fc6b9c",
   "metadata": {},
   "outputs": [],
   "source": [
    "# now we check \"how well\" the matrices U_T diagonalize B\n",
    "approx_B_diag_list = []\n",
    "off_diag_elements_of_approx_B_list = []\n",
    "#print(np.linalg.eigh(B)[0].round(3)) # CHECK OK\n",
    "for j in range (len(T_list)):\n",
    "    T = T_list[j]\n",
    "    U_T = U_T_list[j]\n",
    "    approx_B_diag = np.conj(U_T.T) @ B @ U_T\n",
    "    approx_B_diag_list.append(approx_B_diag)\n",
    "#    print(approx_B_diag.round(3), \"\\n\")\n",
    "    off_diag_elements_of_approx_B_list.append(np.absolute(approx_B_diag[0][1]))\n"
   ]
  },
  {
   "cell_type": "code",
   "execution_count": 102,
   "id": "acb4c08a",
   "metadata": {},
   "outputs": [
    {
     "data": {
      "image/png": "[encoded data removed]",
      "text/plain": [
       "<Figure size 432x288 with 1 Axes>"
      ]
     },
     "metadata": {
      "needs_background": "light"
     },
     "output_type": "display_data"
    }
   ],
   "source": [
    "import matplotlib.pyplot as plt\n",
    "\n",
    "plt.plot(np.log10(T_list), off_diag_elements_of_approx_B_list, marker='o')\n",
    "plt.title('Deviation of evolved eigenvectors of A from eigenvectors of B')\n",
    "plt.xlabel('log10(T)')\n",
    "plt.ylabel('D(T)')\n",
    "plt.show()\n"
   ]
  },
  {
   "cell_type": "code",
   "execution_count": null,
   "id": "4a8a00e7",
   "metadata": {},
   "outputs": [],
   "source": []
  }
 ],
 "metadata": {
  "kernelspec": {
   "display_name": "Python 3 (ipykernel)",
   "language": "python",
   "name": "python3"
  },
  "language_info": {
   "codemirror_mode": {
    "name": "ipython",
    "version": 3
   },
   "file_extension": ".py",
   "mimetype": "text/x-python",
   "name": "python",
   "nbconvert_exporter": "python",
   "pygments_lexer": "ipython3",
   "version": "3.9.12"
  }
 },
 "nbformat": 4,
 "nbformat_minor": 5
}
